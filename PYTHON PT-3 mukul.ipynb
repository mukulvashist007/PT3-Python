{
 "cells": [
  {
   "cell_type": "markdown",
   "metadata": {},
   "source": [
    "## THEORETICAL QUESTIONS"
   ]
  },
  {
   "cell_type": "markdown",
   "metadata": {},
   "source": [
    "1. What is the syntax to call a constructor of a base class from child class.                                                                                                "
   ]
  },
  {
   "cell_type": "markdown",
   "metadata": {},
   "source": [
    "   Ans. super() command is used to call a constructor of a base class from child class.\n",
    "   \n",
    "   "
   ]
  },
  {
   "cell_type": "code",
   "execution_count": 28,
   "metadata": {},
   "outputs": [],
   "source": [
    "#2. How is a class made as inherited class (syntax of child class)\n",
    "#Ans.\n",
    "#     class Mother:\n",
    "#        pass \n",
    "#     class Child(Mother):\n",
    "#        pass"
   ]
  },
  {
   "cell_type": "code",
   "execution_count": 29,
   "metadata": {},
   "outputs": [
    {
     "name": "stdout",
     "output_type": "stream",
     "text": [
      "{1: {'name': 'mukul', 'type': 'maths'}, 2: {'name': 'arjun', 'type': 'java'}}\n"
     ]
    }
   ],
   "source": [
    "#3. Print an element of a nested dictionary.\n",
    "subject ={1:{'name':'mukul', 'type':'maths'},\n",
    "              2:{'name':'arjun', 'type':'java'}}\n",
    "print(subject)"
   ]
  },
  {
   "cell_type": "markdown",
   "metadata": {},
   "source": [
    "## PRACTICAL QUESTIONS"
   ]
  },
  {
   "cell_type": "code",
   "execution_count": 30,
   "metadata": {},
   "outputs": [
    {
     "name": "stdout",
     "output_type": "stream",
     "text": [
      "Please enter your sentence here: i am mukul\n",
      "am i mukul\n"
     ]
    }
   ],
   "source": [
    "#Q1. Write a program that accepts a sequence of whitespace separated words as input\n",
    "#and prints the words after removing all duplicate words.\n",
    "\n",
    "phrase = input(\"Please enter your sentence here: \")\n",
    "phrase_split = phrase.split(' ')\n",
    "\n",
    "word_list = []\n",
    "for i in phrase_split:\n",
    "    if i not in word_list:\n",
    "        word_list.append(i)\n",
    "    else:\n",
    "        continue\n",
    "word_list.sort()\n",
    "print((' ').join(word_list))"
   ]
  },
  {
   "cell_type": "code",
   "execution_count": 31,
   "metadata": {},
   "outputs": [
    {
     "name": "stdout",
     "output_type": "stream",
     "text": [
      "12 35 88 120 155\n"
     ]
    }
   ],
   "source": [
    "#Q2. By using list comprehension, please write a program to print the list after removing\n",
    "#the value 24 in [12,24,35,24,88,120,155]. \n",
    "var = [12,24,35,24,88,120,155]  \n",
    "var1 = [ numb for numb in list1 if numb != 24] \n",
    "print(*list1)"
   ]
  },
  {
   "cell_type": "code",
   "execution_count": null,
   "metadata": {},
   "outputs": [],
   "source": []
  },
  {
   "cell_type": "code",
   "execution_count": null,
   "metadata": {},
   "outputs": [],
   "source": []
  }
 ],
 "metadata": {
  "kernelspec": {
   "display_name": "Python 3",
   "language": "python",
   "name": "python3"
  },
  "language_info": {
   "codemirror_mode": {
    "name": "ipython",
    "version": 3
   },
   "file_extension": ".py",
   "mimetype": "text/x-python",
   "name": "python",
   "nbconvert_exporter": "python",
   "pygments_lexer": "ipython3",
   "version": "3.7.4"
  }
 },
 "nbformat": 4,
 "nbformat_minor": 2
}
